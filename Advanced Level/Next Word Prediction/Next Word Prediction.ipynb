{
 "cells": [
  {
   "cell_type": "markdown",
   "metadata": {
    "id": "2DgdNKUy_SuT"
   },
   "source": [
    "# NEXT WORD PREDICTION"
   ]
  },
  {
   "cell_type": "markdown",
   "metadata": {
    "id": "y69-niqNWNym"
   },
   "source": [
    "## By Ananya Kumar Mamillapalli"
   ]
  },
  {
   "cell_type": "markdown",
   "metadata": {
    "id": "EQdNO5MX_fGE"
   },
   "source": [
    "### Importing Libraries"
   ]
  },
  {
   "cell_type": "code",
   "execution_count": 1,
   "metadata": {
    "id": "2lNnpATp_Wm8"
   },
   "outputs": [],
   "source": [
    "import numpy as np\n",
    "from nltk.tokenize import RegexpTokenizer\n",
    "from keras.models import Sequential, load_model\n",
    "from keras.layers import Dense\n",
    "from keras.layers import LSTM\n",
    "import pickle"
   ]
  },
  {
   "cell_type": "code",
   "execution_count": 2,
   "metadata": {
    "id": "_JL_jAlI_kGr"
   },
   "outputs": [],
   "source": [
    "file= open('1661-0.txt',encoding='UTF-8').read().lower()"
   ]
  },
  {
   "cell_type": "code",
   "execution_count": 3,
   "metadata": {
    "colab": {
     "base_uri": "https://localhost:8080/"
    },
    "id": "U_8wo2aa_-ts",
    "outputId": "8e1c1a2f-c7e1-48e4-9c53-df2352211844"
   },
   "outputs": [
    {
     "name": "stdout",
     "output_type": "stream",
     "text": [
      "corpus length:\t 581888\n"
     ]
    }
   ],
   "source": [
    "print('corpus length:\\t', len(file))"
   ]
  },
  {
   "cell_type": "code",
   "execution_count": 4,
   "metadata": {
    "id": "f2RKittLADwH"
   },
   "outputs": [],
   "source": [
    "tokinizer=RegexpTokenizer(r'\\w+')\n",
    "pickle.dump(tokinizer,open('token.pkl','wb'))"
   ]
  },
  {
   "cell_type": "code",
   "execution_count": 5,
   "metadata": {
    "id": "2a1QIPk9AJMU"
   },
   "outputs": [],
   "source": [
    "words= tokinizer.tokenize(file)"
   ]
  },
  {
   "cell_type": "code",
   "execution_count": 6,
   "metadata": {
    "colab": {
     "base_uri": "https://localhost:8080/"
    },
    "id": "HvoFD9N-AQcA",
    "outputId": "c7f11e83-f21c-493c-f46c-116e94b0d80b"
   },
   "outputs": [
    {
     "data": {
      "text/plain": [
       "109226"
      ]
     },
     "execution_count": 6,
     "metadata": {},
     "output_type": "execute_result"
    }
   ],
   "source": [
    "len (words)"
   ]
  },
  {
   "cell_type": "code",
   "execution_count": 7,
   "metadata": {
    "colab": {
     "base_uri": "https://localhost:8080/"
    },
    "id": "uy3cOaB2ATW_",
    "outputId": "4ef3e7fb-518b-44eb-885f-a15f602b49c7"
   },
   "outputs": [
    {
     "data": {
      "text/plain": [
       "8201"
      ]
     },
     "execution_count": 7,
     "metadata": {},
     "output_type": "execute_result"
    }
   ],
   "source": [
    "unique_words= np.unique(words)\n",
    "len(unique_words)"
   ]
  },
  {
   "cell_type": "code",
   "execution_count": 8,
   "metadata": {
    "id": "0afwRZXIAWmC"
   },
   "outputs": [],
   "source": [
    "unique_word_index= dict((c,i) for i,c in enumerate(unique_words))"
   ]
  },
  {
   "cell_type": "markdown",
   "metadata": {
    "id": "KnBCaQsNAdr3"
   },
   "source": [
    "### Preparing Data"
   ]
  },
  {
   "cell_type": "code",
   "execution_count": 9,
   "metadata": {
    "colab": {
     "base_uri": "https://localhost:8080/"
    },
    "id": "uwTyBc4cAbAb",
    "outputId": "2ab5aa13-03ec-4fb1-af2f-ce3260650f67"
   },
   "outputs": [
    {
     "name": "stdout",
     "output_type": "stream",
     "text": [
      "pev wods:\t ['gutenberg', 's', 'the', 'adventures']\n",
      "next wods:\t of\n"
     ]
    }
   ],
   "source": [
    "word_length=4\n",
    "prev_words=[]\n",
    "next_words=[]\n",
    "for i in range(len(words)-word_length):\n",
    "    prev_words.append(words[i:i + word_length])\n",
    "    next_words.append(words[i + word_length])\n",
    "\n",
    "print('pev wods:\\t', prev_words[1])\n",
    "print('next wods:\\t', next_words[1])"
   ]
  },
  {
   "cell_type": "code",
   "execution_count": 10,
   "metadata": {
    "id": "NKu0kx2KAlp5"
   },
   "outputs": [],
   "source": [
    "X = np.zeros((len(prev_words), word_length, len(unique_words)), dtype=bool)\n",
    "Y = np.zeros((len(next_words), len(unique_words)), dtype=bool)\n",
    "for i, each_words in enumerate(prev_words):\n",
    "    for j, each_word in enumerate(each_words):\n",
    "        X[i, j, unique_word_index[each_word]] = 1\n",
    "    Y[i, unique_word_index[next_words[i]]] = 1"
   ]
  },
  {
   "cell_type": "code",
   "execution_count": 11,
   "metadata": {
    "colab": {
     "base_uri": "https://localhost:8080/"
    },
    "id": "aGDZYs5JAqWv",
    "outputId": "267e8b73-94b7-4a53-cbe7-2781bf2aaf2d"
   },
   "outputs": [
    {
     "name": "stdout",
     "output_type": "stream",
     "text": [
      "[False False False ... False False False]\n"
     ]
    }
   ],
   "source": [
    "print(X[0][0])"
   ]
  },
  {
   "cell_type": "markdown",
   "metadata": {
    "id": "UnAG1Yy7AyJm"
   },
   "source": [
    "### Model Building"
   ]
  },
  {
   "cell_type": "code",
   "execution_count": 12,
   "metadata": {
    "colab": {
     "base_uri": "https://localhost:8080/"
    },
    "id": "sRA2IS0CAvnO",
    "outputId": "5bc61fa2-78ee-4d09-859d-7acc976a1fc2"
   },
   "outputs": [
    {
     "name": "stdout",
     "output_type": "stream",
     "text": [
      "Model: \"sequential\"\n",
      "_________________________________________________________________\n",
      "Layer (type)                 Output Shape              Param #   \n",
      "=================================================================\n",
      "lstm (LSTM)                  (None, 128)               4264960   \n",
      "_________________________________________________________________\n",
      "dense (Dense)                (None, 8201)              1057929   \n",
      "=================================================================\n",
      "Total params: 5,322,889\n",
      "Trainable params: 5,322,889\n",
      "Non-trainable params: 0\n",
      "_________________________________________________________________\n"
     ]
    }
   ],
   "source": [
    "model = Sequential()\n",
    "model.add(LSTM(128, input_shape=(word_length, len(unique_words))))\n",
    "model.add(Dense(len(unique_words),activation='softmax'))\n",
    "\n",
    "model.summary()"
   ]
  },
  {
   "cell_type": "code",
   "execution_count": 13,
   "metadata": {
    "id": "t8p8RxksA-ss"
   },
   "outputs": [],
   "source": [
    "from tensorflow.keras.optimizers import RMSprop"
   ]
  },
  {
   "cell_type": "code",
   "execution_count": 14,
   "metadata": {
    "colab": {
     "base_uri": "https://localhost:8080/"
    },
    "id": "s3rm-NRfA6RF",
    "outputId": "09fbe4bb-6257-43fb-9559-07eb145c60d3"
   },
   "outputs": [
    {
     "metadata": {
      "tags": null
     },
     "name": "stderr",
     "output_type": "stream",
     "text": [
      "/usr/local/lib/python3.7/dist-packages/keras/optimizer_v2/optimizer_v2.py:356: UserWarning: The `lr` argument is deprecated, use `learning_rate` instead.\n",
      "  \"The `lr` argument is deprecated, use `learning_rate` instead.\")\n"
     ]
    },
    {
     "name": "stdout",
     "output_type": "stream",
     "text": [
      "Epoch 1/20\n",
      "811/811 [==============================] - 212s 259ms/step - loss: 6.0062 - accuracy: 0.1074 - val_loss: 7.0047 - val_accuracy: 0.1014\n",
      "Epoch 2/20\n",
      "811/811 [==============================] - 207s 256ms/step - loss: 5.7673 - accuracy: 0.1473 - val_loss: 8.0781 - val_accuracy: 0.0998\n",
      "Epoch 3/20\n",
      "811/811 [==============================] - 205s 253ms/step - loss: 5.7446 - accuracy: 0.1743 - val_loss: 8.1996 - val_accuracy: 0.1108\n",
      "Epoch 4/20\n",
      "811/811 [==============================] - 206s 254ms/step - loss: 5.4738 - accuracy: 0.2096 - val_loss: 8.3132 - val_accuracy: 0.1100\n",
      "Epoch 5/20\n",
      "811/811 [==============================] - 207s 256ms/step - loss: 5.2256 - accuracy: 0.2468 - val_loss: 8.2927 - val_accuracy: 0.0947\n",
      "Epoch 6/20\n",
      "811/811 [==============================] - 209s 257ms/step - loss: 5.0046 - accuracy: 0.2827 - val_loss: 8.3941 - val_accuracy: 0.0923\n",
      "Epoch 7/20\n",
      "811/811 [==============================] - 206s 254ms/step - loss: 4.8170 - accuracy: 0.3209 - val_loss: 8.5665 - val_accuracy: 0.0866\n",
      "Epoch 8/20\n",
      "811/811 [==============================] - 207s 256ms/step - loss: 4.6504 - accuracy: 0.3549 - val_loss: 8.5498 - val_accuracy: 0.0844\n",
      "Epoch 9/20\n",
      "811/811 [==============================] - 209s 258ms/step - loss: 4.5165 - accuracy: 0.3872 - val_loss: 8.6559 - val_accuracy: 0.0789\n",
      "Epoch 10/20\n",
      "811/811 [==============================] - 209s 257ms/step - loss: 4.3927 - accuracy: 0.4158 - val_loss: 8.7122 - val_accuracy: 0.0791\n",
      "Epoch 11/20\n",
      "811/811 [==============================] - 208s 257ms/step - loss: 4.2841 - accuracy: 0.4406 - val_loss: 8.7793 - val_accuracy: 0.0842\n",
      "Epoch 12/20\n",
      "811/811 [==============================] - 206s 254ms/step - loss: 4.1988 - accuracy: 0.4628 - val_loss: 8.8041 - val_accuracy: 0.0802\n",
      "Epoch 13/20\n",
      "811/811 [==============================] - 207s 256ms/step - loss: 4.1045 - accuracy: 0.4816 - val_loss: 8.8856 - val_accuracy: 0.0752\n",
      "Epoch 14/20\n",
      "811/811 [==============================] - 206s 254ms/step - loss: 4.0261 - accuracy: 0.4987 - val_loss: 9.0238 - val_accuracy: 0.0729\n",
      "Epoch 15/20\n",
      "811/811 [==============================] - 205s 252ms/step - loss: 3.9529 - accuracy: 0.5152 - val_loss: 9.0416 - val_accuracy: 0.0710\n",
      "Epoch 16/20\n",
      "811/811 [==============================] - 206s 254ms/step - loss: 3.8894 - accuracy: 0.5281 - val_loss: 9.0828 - val_accuracy: 0.0718\n",
      "Epoch 17/20\n",
      "811/811 [==============================] - 206s 254ms/step - loss: 3.8315 - accuracy: 0.5396 - val_loss: 9.0914 - val_accuracy: 0.0701\n",
      "Epoch 18/20\n",
      "811/811 [==============================] - 207s 256ms/step - loss: 3.7808 - accuracy: 0.5498 - val_loss: 9.1251 - val_accuracy: 0.0720\n",
      "Epoch 19/20\n",
      "811/811 [==============================] - 208s 256ms/step - loss: 3.7307 - accuracy: 0.5590 - val_loss: 9.1489 - val_accuracy: 0.0712\n",
      "Epoch 20/20\n",
      "811/811 [==============================] - 208s 256ms/step - loss: 3.6911 - accuracy: 0.5679 - val_loss: 9.1684 - val_accuracy: 0.0709\n"
     ]
    }
   ],
   "source": [
    "optimizer = RMSprop(lr=0.01)\n",
    "model.compile(loss='categorical_crossentropy', optimizer=optimizer, metrics=['accuracy'])\n",
    "history = model.fit(X, Y, validation_split=0.05, batch_size=128, epochs=20, shuffle=True).history"
   ]
  },
  {
   "cell_type": "code",
   "execution_count": 15,
   "metadata": {
    "id": "7EzN0EtMBeM7"
   },
   "outputs": [],
   "source": [
    "model.save('next_wod.h5')"
   ]
  },
  {
   "cell_type": "markdown",
   "metadata": {
    "id": "YeM-5-hzSwmm"
   },
   "source": [
    "### Testing on user input data"
   ]
  },
  {
   "cell_type": "code",
   "execution_count": 16,
   "metadata": {
    "id": "1BEfYpqCSjqH"
   },
   "outputs": [],
   "source": [
    "def prep_input(txt):\n",
    "    x=np.zeros((1, word_length, len(unique_words)))\n",
    "    for t, word in enumerate(txt.split()[-4:]):\n",
    "        #print(word)\n",
    "        x[0, t, unique_word_index[word]] = 1\n",
    "    index=np.argmax(model.predict(x))\n",
    "    rslt=unique_words[index]\n",
    "    return rslt"
   ]
  },
  {
   "cell_type": "code",
   "execution_count": 17,
   "metadata": {
    "colab": {
     "base_uri": "https://localhost:8080/",
     "height": 35
    },
    "id": "f6Rs2VH8S32J",
    "outputId": "aea35e5e-c346-44ef-b3a5-cf35acc44dc7"
   },
   "outputs": [
    {
     "data": {
      "application/vnd.google.colaboratory.intrinsic+json": {
       "type": "string"
      },
      "text/plain": [
       "'delight'"
      ]
     },
     "execution_count": 17,
     "metadata": {},
     "output_type": "execute_result"
    }
   ],
   "source": [
    "unique_words[2001]"
   ]
  },
  {
   "cell_type": "code",
   "execution_count": 18,
   "metadata": {
    "colab": {
     "base_uri": "https://localhost:8080/",
     "height": 52
    },
    "id": "4XCtTJQoS1Hk",
    "outputId": "b70a8b05-8b88-4929-f4ef-0a46e90a3748"
   },
   "outputs": [
    {
     "name": "stdout",
     "output_type": "stream",
     "text": [
      "Enter text :I am watching\n"
     ]
    },
    {
     "data": {
      "application/vnd.google.colaboratory.intrinsic+json": {
       "type": "string"
      },
      "text/plain": [
       "'hands'"
      ]
     },
     "execution_count": 18,
     "metadata": {},
     "output_type": "execute_result"
    }
   ],
   "source": [
    "txt = input('Enter text :')\n",
    "\n",
    "prep_input(txt.lower())"
   ]
  },
  {
   "cell_type": "code",
   "execution_count": null,
   "metadata": {
    "id": "24AEwgv1U920"
   },
   "outputs": [],
   "source": []
  }
 ],
 "metadata": {
  "colab": {
   "name": "Next Word Prediction.ipynb",
   "provenance": []
  },
  "kernelspec": {
   "display_name": "Python 3",
   "language": "python",
   "name": "python3"
  },
  "language_info": {
   "codemirror_mode": {
    "name": "ipython",
    "version": 3
   },
   "file_extension": ".py",
   "mimetype": "text/x-python",
   "name": "python",
   "nbconvert_exporter": "python",
   "pygments_lexer": "ipython3",
   "version": "3.8.8"
  }
 },
 "nbformat": 4,
 "nbformat_minor": 1
}
