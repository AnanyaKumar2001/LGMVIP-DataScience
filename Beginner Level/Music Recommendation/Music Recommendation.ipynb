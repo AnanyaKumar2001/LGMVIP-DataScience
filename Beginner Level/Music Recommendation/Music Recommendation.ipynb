{
 "cells": [
  {
   "cell_type": "markdown",
   "metadata": {},
   "source": [
    "# MUSIC RECOMMENDATION"
   ]
  },
  {
   "cell_type": "markdown",
   "metadata": {},
   "source": [
    "## By Ananya Kumar Mamillapalli"
   ]
  },
  {
   "cell_type": "markdown",
   "metadata": {},
   "source": [
    " ### Importing Libraries"
   ]
  },
  {
   "cell_type": "code",
   "execution_count": 1,
   "metadata": {},
   "outputs": [],
   "source": [
    "import pandas as pd\n",
    "import matplotlib.pyplot as plt\n",
    "get_ipython().run_line_magic('matplotlib', 'inline')\n",
    "import numpy as np \n",
    "import seaborn as sns"
   ]
  },
  {
   "cell_type": "markdown",
   "metadata": {},
   "source": [
    "### Loading Data"
   ]
  },
  {
   "cell_type": "code",
   "execution_count": 2,
   "metadata": {},
   "outputs": [],
   "source": [
    "def reduce_mem_usage(df):\n",
    "    \"\"\" iterate through all the columns of a dataframe and modify the data type\n",
    "        to reduce memory usage.        \n",
    "    \"\"\"\n",
    "    start_mem = df.memory_usage().sum() / 1024**2\n",
    "    print('Memory usage of dataframe is {:.2f} MB'.format(start_mem))\n",
    "    \n",
    "    for col in df.columns:\n",
    "        col_type = df[col].dtype\n",
    "        \n",
    "        if col_type != object:\n",
    "            c_min = df[col].min()\n",
    "            c_max = df[col].max()\n",
    "            if str(col_type)[:3] == 'int':\n",
    "                if c_min > np.iinfo(np.int8).min and c_max < np.iinfo(np.int8).max:\n",
    "                    df[col] = df[col].astype(np.int8)\n",
    "                elif c_min > np.iinfo(np.int16).min and c_max < np.iinfo(np.int16).max:\n",
    "                    df[col] = df[col].astype(np.int16)\n",
    "                elif c_min > np.iinfo(np.int32).min and c_max < np.iinfo(np.int32).max:\n",
    "                    df[col] = df[col].astype(np.int32)\n",
    "                elif c_min > np.iinfo(np.int64).min and c_max < np.iinfo(np.int64).max:\n",
    "                    df[col] = df[col].astype(np.int64)  \n",
    "            else:\n",
    "                if c_min > np.finfo(np.float16).min and c_max < np.finfo(np.float16).max:\n",
    "                    df[col] = df[col].astype(np.float16)\n",
    "                elif c_min > np.finfo(np.float32).min and c_max < np.finfo(np.float32).max:\n",
    "                    df[col] = df[col].astype(np.float32)\n",
    "                else:\n",
    "                    df[col] = df[col].astype(np.float64)\n",
    "        else:\n",
    "            df[col] = df[col].astype('category')\n",
    "\n",
    "    end_mem = df.memory_usage().sum() / 1024**2\n",
    "    print('Memory usage after optimization is: {:.2f} MB'.format(end_mem))\n",
    "    print('Decreased by {:.1f}%'.format(100 * (start_mem - end_mem) / start_mem))\n",
    "    \n",
    "    return df"
   ]
  },
  {
   "cell_type": "code",
   "execution_count": 3,
   "metadata": {},
   "outputs": [
    {
     "name": "stdout",
     "output_type": "stream",
     "text": [
      "Memory usage of dataframe is 337.71 MB\n",
      "Memory usage after optimization is: 82.41 MB\n",
      "Decreased by 75.6%\n",
      "Memory usage of dataframe is 117.04 MB\n",
      "Memory usage after optimization is: 42.17 MB\n",
      "Decreased by 64.0%\n",
      "Memory usage of dataframe is 52.55 MB\n",
      "Memory usage after optimization is: 227.75 MB\n",
      "Decreased by -333.4%\n",
      "Memory usage of dataframe is 122.64 MB\n",
      "Memory usage after optimization is: 159.83 MB\n",
      "Decreased by -30.3%\n"
     ]
    }
   ],
   "source": [
    "train = reduce_mem_usage(pd.read_csv('train.csv'))\n",
    "test = reduce_mem_usage(pd.read_csv('test.csv'))\n",
    "ext_song = reduce_mem_usage(pd.read_csv('song_extra_info.csv'))\n",
    "members = (pd.read_csv('members.csv',parse_dates=['registration_init_time','expiration_date']))\n",
    "songs = reduce_mem_usage(pd.read_csv('songs.csv'))"
   ]
  },
  {
   "cell_type": "markdown",
   "metadata": {},
   "source": [
    "### Analyzing and Visualizing the Data"
   ]
  },
  {
   "cell_type": "code",
   "execution_count": 4,
   "metadata": {
    "scrolled": true
   },
   "outputs": [
    {
     "data": {
      "text/html": [
       "<div>\n",
       "<style scoped>\n",
       "    .dataframe tbody tr th:only-of-type {\n",
       "        vertical-align: middle;\n",
       "    }\n",
       "\n",
       "    .dataframe tbody tr th {\n",
       "        vertical-align: top;\n",
       "    }\n",
       "\n",
       "    .dataframe thead th {\n",
       "        text-align: right;\n",
       "    }\n",
       "</style>\n",
       "<table border=\"1\" class=\"dataframe\">\n",
       "  <thead>\n",
       "    <tr style=\"text-align: right;\">\n",
       "      <th></th>\n",
       "      <th>msno</th>\n",
       "      <th>song_id</th>\n",
       "      <th>source_system_tab</th>\n",
       "      <th>source_screen_name</th>\n",
       "      <th>source_type</th>\n",
       "      <th>target</th>\n",
       "    </tr>\n",
       "  </thead>\n",
       "  <tbody>\n",
       "    <tr>\n",
       "      <th>0</th>\n",
       "      <td>FGtllVqz18RPiwJj/edr2gV78zirAiY/9SmYvia+kCg=</td>\n",
       "      <td>BBzumQNXUHKdEBOB7mAJuzok+IJA1c2Ryg/yzTF6tik=</td>\n",
       "      <td>explore</td>\n",
       "      <td>Explore</td>\n",
       "      <td>online-playlist</td>\n",
       "      <td>1</td>\n",
       "    </tr>\n",
       "    <tr>\n",
       "      <th>1</th>\n",
       "      <td>Xumu+NIjS6QYVxDS4/t3SawvJ7viT9hPKXmf0RtLNx8=</td>\n",
       "      <td>bhp/MpSNoqoxOIB+/l8WPqu6jldth4DIpCm3ayXnJqM=</td>\n",
       "      <td>my library</td>\n",
       "      <td>Local playlist more</td>\n",
       "      <td>local-playlist</td>\n",
       "      <td>1</td>\n",
       "    </tr>\n",
       "    <tr>\n",
       "      <th>2</th>\n",
       "      <td>Xumu+NIjS6QYVxDS4/t3SawvJ7viT9hPKXmf0RtLNx8=</td>\n",
       "      <td>JNWfrrC7zNN7BdMpsISKa4Mw+xVJYNnxXh3/Epw7QgY=</td>\n",
       "      <td>my library</td>\n",
       "      <td>Local playlist more</td>\n",
       "      <td>local-playlist</td>\n",
       "      <td>1</td>\n",
       "    </tr>\n",
       "    <tr>\n",
       "      <th>3</th>\n",
       "      <td>Xumu+NIjS6QYVxDS4/t3SawvJ7viT9hPKXmf0RtLNx8=</td>\n",
       "      <td>2A87tzfnJTSWqD7gIZHisolhe4DMdzkbd6LzO1KHjNs=</td>\n",
       "      <td>my library</td>\n",
       "      <td>Local playlist more</td>\n",
       "      <td>local-playlist</td>\n",
       "      <td>1</td>\n",
       "    </tr>\n",
       "    <tr>\n",
       "      <th>4</th>\n",
       "      <td>FGtllVqz18RPiwJj/edr2gV78zirAiY/9SmYvia+kCg=</td>\n",
       "      <td>3qm6XTZ6MOCU11x8FIVbAGH5l5uMkT3/ZalWG1oo2Gc=</td>\n",
       "      <td>explore</td>\n",
       "      <td>Explore</td>\n",
       "      <td>online-playlist</td>\n",
       "      <td>1</td>\n",
       "    </tr>\n",
       "  </tbody>\n",
       "</table>\n",
       "</div>"
      ],
      "text/plain": [
       "                                           msno  \\\n",
       "0  FGtllVqz18RPiwJj/edr2gV78zirAiY/9SmYvia+kCg=   \n",
       "1  Xumu+NIjS6QYVxDS4/t3SawvJ7viT9hPKXmf0RtLNx8=   \n",
       "2  Xumu+NIjS6QYVxDS4/t3SawvJ7viT9hPKXmf0RtLNx8=   \n",
       "3  Xumu+NIjS6QYVxDS4/t3SawvJ7viT9hPKXmf0RtLNx8=   \n",
       "4  FGtllVqz18RPiwJj/edr2gV78zirAiY/9SmYvia+kCg=   \n",
       "\n",
       "                                        song_id source_system_tab  \\\n",
       "0  BBzumQNXUHKdEBOB7mAJuzok+IJA1c2Ryg/yzTF6tik=           explore   \n",
       "1  bhp/MpSNoqoxOIB+/l8WPqu6jldth4DIpCm3ayXnJqM=        my library   \n",
       "2  JNWfrrC7zNN7BdMpsISKa4Mw+xVJYNnxXh3/Epw7QgY=        my library   \n",
       "3  2A87tzfnJTSWqD7gIZHisolhe4DMdzkbd6LzO1KHjNs=        my library   \n",
       "4  3qm6XTZ6MOCU11x8FIVbAGH5l5uMkT3/ZalWG1oo2Gc=           explore   \n",
       "\n",
       "    source_screen_name      source_type  target  \n",
       "0              Explore  online-playlist       1  \n",
       "1  Local playlist more   local-playlist       1  \n",
       "2  Local playlist more   local-playlist       1  \n",
       "3  Local playlist more   local-playlist       1  \n",
       "4              Explore  online-playlist       1  "
      ]
     },
     "execution_count": 4,
     "metadata": {},
     "output_type": "execute_result"
    }
   ],
   "source": [
    "train.head()"
   ]
  },
  {
   "cell_type": "code",
   "execution_count": 5,
   "metadata": {
    "scrolled": true
   },
   "outputs": [
    {
     "name": "stdout",
     "output_type": "stream",
     "text": [
      "<class 'pandas.core.frame.DataFrame'>\n",
      "RangeIndex: 7377418 entries, 0 to 7377417\n",
      "Data columns (total 6 columns):\n",
      " #   Column              Dtype   \n",
      "---  ------              -----   \n",
      " 0   msno                category\n",
      " 1   song_id             category\n",
      " 2   source_system_tab   category\n",
      " 3   source_screen_name  category\n",
      " 4   source_type         category\n",
      " 5   target              int8    \n",
      "dtypes: category(5), int8(1)\n",
      "memory usage: 82.4 MB\n"
     ]
    }
   ],
   "source": [
    "train.info()"
   ]
  },
  {
   "cell_type": "code",
   "execution_count": 6,
   "metadata": {
    "scrolled": true
   },
   "outputs": [
    {
     "data": {
      "text/html": [
       "<div>\n",
       "<style scoped>\n",
       "    .dataframe tbody tr th:only-of-type {\n",
       "        vertical-align: middle;\n",
       "    }\n",
       "\n",
       "    .dataframe tbody tr th {\n",
       "        vertical-align: top;\n",
       "    }\n",
       "\n",
       "    .dataframe thead th {\n",
       "        text-align: right;\n",
       "    }\n",
       "</style>\n",
       "<table border=\"1\" class=\"dataframe\">\n",
       "  <thead>\n",
       "    <tr style=\"text-align: right;\">\n",
       "      <th></th>\n",
       "      <th>id</th>\n",
       "      <th>msno</th>\n",
       "      <th>song_id</th>\n",
       "      <th>source_system_tab</th>\n",
       "      <th>source_screen_name</th>\n",
       "      <th>source_type</th>\n",
       "    </tr>\n",
       "  </thead>\n",
       "  <tbody>\n",
       "    <tr>\n",
       "      <th>0</th>\n",
       "      <td>0</td>\n",
       "      <td>V8ruy7SGk7tDm3zA51DPpn6qutt+vmKMBKa21dp54uM=</td>\n",
       "      <td>WmHKgKMlp1lQMecNdNvDMkvIycZYHnFwDT72I5sIssc=</td>\n",
       "      <td>my library</td>\n",
       "      <td>Local playlist more</td>\n",
       "      <td>local-library</td>\n",
       "    </tr>\n",
       "    <tr>\n",
       "      <th>1</th>\n",
       "      <td>1</td>\n",
       "      <td>V8ruy7SGk7tDm3zA51DPpn6qutt+vmKMBKa21dp54uM=</td>\n",
       "      <td>y/rsZ9DC7FwK5F2PK2D5mj+aOBUJAjuu3dZ14NgE0vM=</td>\n",
       "      <td>my library</td>\n",
       "      <td>Local playlist more</td>\n",
       "      <td>local-library</td>\n",
       "    </tr>\n",
       "    <tr>\n",
       "      <th>2</th>\n",
       "      <td>2</td>\n",
       "      <td>/uQAlrAkaczV+nWCd2sPF2ekvXPRipV7q0l+gbLuxjw=</td>\n",
       "      <td>8eZLFOdGVdXBSqoAv5nsLigeH2BvKXzTQYtUM53I0k4=</td>\n",
       "      <td>discover</td>\n",
       "      <td>NaN</td>\n",
       "      <td>song-based-playlist</td>\n",
       "    </tr>\n",
       "    <tr>\n",
       "      <th>3</th>\n",
       "      <td>3</td>\n",
       "      <td>1a6oo/iXKatxQx4eS9zTVD+KlSVaAFbTIqVvwLC1Y0k=</td>\n",
       "      <td>ztCf8thYsS4YN3GcIL/bvoxLm/T5mYBVKOO4C9NiVfQ=</td>\n",
       "      <td>radio</td>\n",
       "      <td>Radio</td>\n",
       "      <td>radio</td>\n",
       "    </tr>\n",
       "    <tr>\n",
       "      <th>4</th>\n",
       "      <td>4</td>\n",
       "      <td>1a6oo/iXKatxQx4eS9zTVD+KlSVaAFbTIqVvwLC1Y0k=</td>\n",
       "      <td>MKVMpslKcQhMaFEgcEQhEfi5+RZhMYlU3eRDpySrH8Y=</td>\n",
       "      <td>radio</td>\n",
       "      <td>Radio</td>\n",
       "      <td>radio</td>\n",
       "    </tr>\n",
       "  </tbody>\n",
       "</table>\n",
       "</div>"
      ],
      "text/plain": [
       "   id                                          msno  \\\n",
       "0   0  V8ruy7SGk7tDm3zA51DPpn6qutt+vmKMBKa21dp54uM=   \n",
       "1   1  V8ruy7SGk7tDm3zA51DPpn6qutt+vmKMBKa21dp54uM=   \n",
       "2   2  /uQAlrAkaczV+nWCd2sPF2ekvXPRipV7q0l+gbLuxjw=   \n",
       "3   3  1a6oo/iXKatxQx4eS9zTVD+KlSVaAFbTIqVvwLC1Y0k=   \n",
       "4   4  1a6oo/iXKatxQx4eS9zTVD+KlSVaAFbTIqVvwLC1Y0k=   \n",
       "\n",
       "                                        song_id source_system_tab  \\\n",
       "0  WmHKgKMlp1lQMecNdNvDMkvIycZYHnFwDT72I5sIssc=        my library   \n",
       "1  y/rsZ9DC7FwK5F2PK2D5mj+aOBUJAjuu3dZ14NgE0vM=        my library   \n",
       "2  8eZLFOdGVdXBSqoAv5nsLigeH2BvKXzTQYtUM53I0k4=          discover   \n",
       "3  ztCf8thYsS4YN3GcIL/bvoxLm/T5mYBVKOO4C9NiVfQ=             radio   \n",
       "4  MKVMpslKcQhMaFEgcEQhEfi5+RZhMYlU3eRDpySrH8Y=             radio   \n",
       "\n",
       "    source_screen_name          source_type  \n",
       "0  Local playlist more        local-library  \n",
       "1  Local playlist more        local-library  \n",
       "2                  NaN  song-based-playlist  \n",
       "3                Radio                radio  \n",
       "4                Radio                radio  "
      ]
     },
     "execution_count": 6,
     "metadata": {},
     "output_type": "execute_result"
    }
   ],
   "source": [
    "test.head()"
   ]
  },
  {
   "cell_type": "code",
   "execution_count": 7,
   "metadata": {
    "scrolled": true
   },
   "outputs": [
    {
     "name": "stdout",
     "output_type": "stream",
     "text": [
      "<class 'pandas.core.frame.DataFrame'>\n",
      "RangeIndex: 2556790 entries, 0 to 2556789\n",
      "Data columns (total 6 columns):\n",
      " #   Column              Dtype   \n",
      "---  ------              -----   \n",
      " 0   id                  int32   \n",
      " 1   msno                category\n",
      " 2   song_id             category\n",
      " 3   source_system_tab   category\n",
      " 4   source_screen_name  category\n",
      " 5   source_type         category\n",
      "dtypes: category(5), int32(1)\n",
      "memory usage: 42.2 MB\n"
     ]
    }
   ],
   "source": [
    "test.info()"
   ]
  },
  {
   "cell_type": "code",
   "execution_count": 8,
   "metadata": {
    "scrolled": true
   },
   "outputs": [
    {
     "data": {
      "text/html": [
       "<div>\n",
       "<style scoped>\n",
       "    .dataframe tbody tr th:only-of-type {\n",
       "        vertical-align: middle;\n",
       "    }\n",
       "\n",
       "    .dataframe tbody tr th {\n",
       "        vertical-align: top;\n",
       "    }\n",
       "\n",
       "    .dataframe thead th {\n",
       "        text-align: right;\n",
       "    }\n",
       "</style>\n",
       "<table border=\"1\" class=\"dataframe\">\n",
       "  <thead>\n",
       "    <tr style=\"text-align: right;\">\n",
       "      <th></th>\n",
       "      <th>song_id</th>\n",
       "      <th>song_length</th>\n",
       "      <th>genre_ids</th>\n",
       "      <th>artist_name</th>\n",
       "      <th>composer</th>\n",
       "      <th>lyricist</th>\n",
       "      <th>language</th>\n",
       "    </tr>\n",
       "  </thead>\n",
       "  <tbody>\n",
       "    <tr>\n",
       "      <th>0</th>\n",
       "      <td>CXoTN1eb7AI+DntdU1vbcwGRV4SCIDxZu+YD8JP8r4E=</td>\n",
       "      <td>247640</td>\n",
       "      <td>465</td>\n",
       "      <td>張信哲 (Jeff Chang)</td>\n",
       "      <td>董貞</td>\n",
       "      <td>何啟弘</td>\n",
       "      <td>3.0</td>\n",
       "    </tr>\n",
       "    <tr>\n",
       "      <th>1</th>\n",
       "      <td>o0kFgae9QtnYgRkVPqLJwa05zIhRlUjfF7O1tDw0ZDU=</td>\n",
       "      <td>197328</td>\n",
       "      <td>444</td>\n",
       "      <td>BLACKPINK</td>\n",
       "      <td>TEDDY|  FUTURE BOUNCE|  Bekuh BOOM</td>\n",
       "      <td>TEDDY</td>\n",
       "      <td>31.0</td>\n",
       "    </tr>\n",
       "    <tr>\n",
       "      <th>2</th>\n",
       "      <td>DwVvVurfpuz+XPuFvucclVQEyPqcpUkHR0ne1RQzPs0=</td>\n",
       "      <td>231781</td>\n",
       "      <td>465</td>\n",
       "      <td>SUPER JUNIOR</td>\n",
       "      <td>NaN</td>\n",
       "      <td>NaN</td>\n",
       "      <td>31.0</td>\n",
       "    </tr>\n",
       "    <tr>\n",
       "      <th>3</th>\n",
       "      <td>dKMBWoZyScdxSkihKG+Vf47nc18N9q4m58+b4e7dSSE=</td>\n",
       "      <td>273554</td>\n",
       "      <td>465</td>\n",
       "      <td>S.H.E</td>\n",
       "      <td>湯小康</td>\n",
       "      <td>徐世珍</td>\n",
       "      <td>3.0</td>\n",
       "    </tr>\n",
       "    <tr>\n",
       "      <th>4</th>\n",
       "      <td>W3bqWd3T+VeHFzHAUfARgW9AvVRaF4N5Yzm4Mr6Eo/o=</td>\n",
       "      <td>140329</td>\n",
       "      <td>726</td>\n",
       "      <td>貴族精選</td>\n",
       "      <td>Traditional</td>\n",
       "      <td>Traditional</td>\n",
       "      <td>52.0</td>\n",
       "    </tr>\n",
       "  </tbody>\n",
       "</table>\n",
       "</div>"
      ],
      "text/plain": [
       "                                        song_id  song_length genre_ids  \\\n",
       "0  CXoTN1eb7AI+DntdU1vbcwGRV4SCIDxZu+YD8JP8r4E=       247640       465   \n",
       "1  o0kFgae9QtnYgRkVPqLJwa05zIhRlUjfF7O1tDw0ZDU=       197328       444   \n",
       "2  DwVvVurfpuz+XPuFvucclVQEyPqcpUkHR0ne1RQzPs0=       231781       465   \n",
       "3  dKMBWoZyScdxSkihKG+Vf47nc18N9q4m58+b4e7dSSE=       273554       465   \n",
       "4  W3bqWd3T+VeHFzHAUfARgW9AvVRaF4N5Yzm4Mr6Eo/o=       140329       726   \n",
       "\n",
       "        artist_name                            composer     lyricist  language  \n",
       "0  張信哲 (Jeff Chang)                                  董貞          何啟弘       3.0  \n",
       "1         BLACKPINK  TEDDY|  FUTURE BOUNCE|  Bekuh BOOM        TEDDY      31.0  \n",
       "2      SUPER JUNIOR                                 NaN          NaN      31.0  \n",
       "3             S.H.E                                 湯小康          徐世珍       3.0  \n",
       "4              貴族精選                         Traditional  Traditional      52.0  "
      ]
     },
     "execution_count": 8,
     "metadata": {},
     "output_type": "execute_result"
    }
   ],
   "source": [
    "songs.head()"
   ]
  },
  {
   "cell_type": "code",
   "execution_count": 9,
   "metadata": {},
   "outputs": [
    {
     "name": "stdout",
     "output_type": "stream",
     "text": [
      "<class 'pandas.core.frame.DataFrame'>\n",
      "RangeIndex: 2296320 entries, 0 to 2296319\n",
      "Data columns (total 7 columns):\n",
      " #   Column       Dtype   \n",
      "---  ------       -----   \n",
      " 0   song_id      category\n",
      " 1   song_length  int32   \n",
      " 2   genre_ids    category\n",
      " 3   artist_name  category\n",
      " 4   composer     category\n",
      " 5   lyricist     category\n",
      " 6   language     float16 \n",
      "dtypes: category(5), float16(1), int32(1)\n",
      "memory usage: 159.8 MB\n"
     ]
    }
   ],
   "source": [
    "songs.info()"
   ]
  },
  {
   "cell_type": "code",
   "execution_count": 10,
   "metadata": {},
   "outputs": [
    {
     "data": {
      "text/html": [
       "<div>\n",
       "<style scoped>\n",
       "    .dataframe tbody tr th:only-of-type {\n",
       "        vertical-align: middle;\n",
       "    }\n",
       "\n",
       "    .dataframe tbody tr th {\n",
       "        vertical-align: top;\n",
       "    }\n",
       "\n",
       "    .dataframe thead th {\n",
       "        text-align: right;\n",
       "    }\n",
       "</style>\n",
       "<table border=\"1\" class=\"dataframe\">\n",
       "  <thead>\n",
       "    <tr style=\"text-align: right;\">\n",
       "      <th></th>\n",
       "      <th>song_id</th>\n",
       "      <th>name</th>\n",
       "      <th>isrc</th>\n",
       "    </tr>\n",
       "  </thead>\n",
       "  <tbody>\n",
       "    <tr>\n",
       "      <th>0</th>\n",
       "      <td>LP7pLJoJFBvyuUwvu+oLzjT+bI+UeBPURCecJsX1jjs=</td>\n",
       "      <td>我們</td>\n",
       "      <td>TWUM71200043</td>\n",
       "    </tr>\n",
       "    <tr>\n",
       "      <th>1</th>\n",
       "      <td>ClazTFnk6r0Bnuie44bocdNMM3rdlrq0bCGAsGUWcHE=</td>\n",
       "      <td>Let Me Love You</td>\n",
       "      <td>QMZSY1600015</td>\n",
       "    </tr>\n",
       "    <tr>\n",
       "      <th>2</th>\n",
       "      <td>u2ja/bZE3zhCGxvbbOB3zOoUjx27u40cf5g09UXMoKQ=</td>\n",
       "      <td>原諒我</td>\n",
       "      <td>TWA530887303</td>\n",
       "    </tr>\n",
       "    <tr>\n",
       "      <th>3</th>\n",
       "      <td>92Fqsy0+p6+RHe2EoLKjHahORHR1Kq1TBJoClW9v+Ts=</td>\n",
       "      <td>Classic</td>\n",
       "      <td>USSM11301446</td>\n",
       "    </tr>\n",
       "    <tr>\n",
       "      <th>4</th>\n",
       "      <td>0QFmz/+rJy1Q56C1DuYqT9hKKqi5TUqx0sN0IwvoHrw=</td>\n",
       "      <td>愛投羅網</td>\n",
       "      <td>TWA471306001</td>\n",
       "    </tr>\n",
       "  </tbody>\n",
       "</table>\n",
       "</div>"
      ],
      "text/plain": [
       "                                        song_id             name          isrc\n",
       "0  LP7pLJoJFBvyuUwvu+oLzjT+bI+UeBPURCecJsX1jjs=               我們  TWUM71200043\n",
       "1  ClazTFnk6r0Bnuie44bocdNMM3rdlrq0bCGAsGUWcHE=  Let Me Love You  QMZSY1600015\n",
       "2  u2ja/bZE3zhCGxvbbOB3zOoUjx27u40cf5g09UXMoKQ=              原諒我  TWA530887303\n",
       "3  92Fqsy0+p6+RHe2EoLKjHahORHR1Kq1TBJoClW9v+Ts=          Classic  USSM11301446\n",
       "4  0QFmz/+rJy1Q56C1DuYqT9hKKqi5TUqx0sN0IwvoHrw=             愛投羅網  TWA471306001"
      ]
     },
     "execution_count": 10,
     "metadata": {},
     "output_type": "execute_result"
    }
   ],
   "source": [
    "ext_song.head()"
   ]
  },
  {
   "cell_type": "code",
   "execution_count": 11,
   "metadata": {
    "scrolled": true
   },
   "outputs": [
    {
     "name": "stdout",
     "output_type": "stream",
     "text": [
      "<class 'pandas.core.frame.DataFrame'>\n",
      "RangeIndex: 2295971 entries, 0 to 2295970\n",
      "Data columns (total 3 columns):\n",
      " #   Column   Dtype   \n",
      "---  ------   -----   \n",
      " 0   song_id  category\n",
      " 1   name     category\n",
      " 2   isrc     category\n",
      "dtypes: category(3)\n",
      "memory usage: 227.7 MB\n"
     ]
    }
   ],
   "source": [
    "ext_song.info()"
   ]
  },
  {
   "cell_type": "code",
   "execution_count": 12,
   "metadata": {
    "scrolled": true
   },
   "outputs": [
    {
     "data": {
      "text/html": [
       "<div>\n",
       "<style scoped>\n",
       "    .dataframe tbody tr th:only-of-type {\n",
       "        vertical-align: middle;\n",
       "    }\n",
       "\n",
       "    .dataframe tbody tr th {\n",
       "        vertical-align: top;\n",
       "    }\n",
       "\n",
       "    .dataframe thead th {\n",
       "        text-align: right;\n",
       "    }\n",
       "</style>\n",
       "<table border=\"1\" class=\"dataframe\">\n",
       "  <thead>\n",
       "    <tr style=\"text-align: right;\">\n",
       "      <th></th>\n",
       "      <th>msno</th>\n",
       "      <th>city</th>\n",
       "      <th>bd</th>\n",
       "      <th>gender</th>\n",
       "      <th>registered_via</th>\n",
       "      <th>registration_init_time</th>\n",
       "      <th>expiration_date</th>\n",
       "    </tr>\n",
       "  </thead>\n",
       "  <tbody>\n",
       "    <tr>\n",
       "      <th>0</th>\n",
       "      <td>XQxgAYj3klVKjR3oxPPXYYFp4soD4TuBghkhMTD4oTw=</td>\n",
       "      <td>1</td>\n",
       "      <td>0</td>\n",
       "      <td>NaN</td>\n",
       "      <td>7</td>\n",
       "      <td>2011-08-20</td>\n",
       "      <td>2017-09-20</td>\n",
       "    </tr>\n",
       "    <tr>\n",
       "      <th>1</th>\n",
       "      <td>UizsfmJb9mV54qE9hCYyU07Va97c0lCRLEQX3ae+ztM=</td>\n",
       "      <td>1</td>\n",
       "      <td>0</td>\n",
       "      <td>NaN</td>\n",
       "      <td>7</td>\n",
       "      <td>2015-06-28</td>\n",
       "      <td>2017-06-22</td>\n",
       "    </tr>\n",
       "    <tr>\n",
       "      <th>2</th>\n",
       "      <td>D8nEhsIOBSoE6VthTaqDX8U6lqjJ7dLdr72mOyLya2A=</td>\n",
       "      <td>1</td>\n",
       "      <td>0</td>\n",
       "      <td>NaN</td>\n",
       "      <td>4</td>\n",
       "      <td>2016-04-11</td>\n",
       "      <td>2017-07-12</td>\n",
       "    </tr>\n",
       "    <tr>\n",
       "      <th>3</th>\n",
       "      <td>mCuD+tZ1hERA/o5GPqk38e041J8ZsBaLcu7nGoIIvhI=</td>\n",
       "      <td>1</td>\n",
       "      <td>0</td>\n",
       "      <td>NaN</td>\n",
       "      <td>9</td>\n",
       "      <td>2015-09-06</td>\n",
       "      <td>2015-09-07</td>\n",
       "    </tr>\n",
       "    <tr>\n",
       "      <th>4</th>\n",
       "      <td>q4HRBfVSssAFS9iRfxWrohxuk9kCYMKjHOEagUMV6rQ=</td>\n",
       "      <td>1</td>\n",
       "      <td>0</td>\n",
       "      <td>NaN</td>\n",
       "      <td>4</td>\n",
       "      <td>2017-01-26</td>\n",
       "      <td>2017-06-13</td>\n",
       "    </tr>\n",
       "  </tbody>\n",
       "</table>\n",
       "</div>"
      ],
      "text/plain": [
       "                                           msno  city  bd gender  \\\n",
       "0  XQxgAYj3klVKjR3oxPPXYYFp4soD4TuBghkhMTD4oTw=     1   0    NaN   \n",
       "1  UizsfmJb9mV54qE9hCYyU07Va97c0lCRLEQX3ae+ztM=     1   0    NaN   \n",
       "2  D8nEhsIOBSoE6VthTaqDX8U6lqjJ7dLdr72mOyLya2A=     1   0    NaN   \n",
       "3  mCuD+tZ1hERA/o5GPqk38e041J8ZsBaLcu7nGoIIvhI=     1   0    NaN   \n",
       "4  q4HRBfVSssAFS9iRfxWrohxuk9kCYMKjHOEagUMV6rQ=     1   0    NaN   \n",
       "\n",
       "   registered_via registration_init_time expiration_date  \n",
       "0               7             2011-08-20      2017-09-20  \n",
       "1               7             2015-06-28      2017-06-22  \n",
       "2               4             2016-04-11      2017-07-12  \n",
       "3               9             2015-09-06      2015-09-07  \n",
       "4               4             2017-01-26      2017-06-13  "
      ]
     },
     "execution_count": 12,
     "metadata": {},
     "output_type": "execute_result"
    }
   ],
   "source": [
    "members.head()"
   ]
  },
  {
   "cell_type": "code",
   "execution_count": 13,
   "metadata": {
    "scrolled": true
   },
   "outputs": [
    {
     "name": "stdout",
     "output_type": "stream",
     "text": [
      "<class 'pandas.core.frame.DataFrame'>\n",
      "RangeIndex: 34403 entries, 0 to 34402\n",
      "Data columns (total 7 columns):\n",
      " #   Column                  Non-Null Count  Dtype         \n",
      "---  ------                  --------------  -----         \n",
      " 0   msno                    34403 non-null  object        \n",
      " 1   city                    34403 non-null  int64         \n",
      " 2   bd                      34403 non-null  int64         \n",
      " 3   gender                  14501 non-null  object        \n",
      " 4   registered_via          34403 non-null  int64         \n",
      " 5   registration_init_time  34403 non-null  datetime64[ns]\n",
      " 6   expiration_date         34403 non-null  datetime64[ns]\n",
      "dtypes: datetime64[ns](2), int64(3), object(2)\n",
      "memory usage: 1.8+ MB\n"
     ]
    }
   ],
   "source": [
    "members.info()"
   ]
  },
  {
   "cell_type": "code",
   "execution_count": 14,
   "metadata": {},
   "outputs": [
    {
     "data": {
      "image/png": "[encoded data removed]",
      "text/plain": [
       "<Figure size 432x288 with 1 Axes>"
      ]
     },
     "metadata": {
      "needs_background": "light"
     },
     "output_type": "display_data"
    }
   ],
   "source": [
    "sns.countplot(y=train['target'],data=train)\n",
    "plt.ylabel('target classes')\n",
    "plt.xlabel('count of each Target ')\n",
    "plt.show()"
   ]
  },
  {
   "cell_type": "code",
   "execution_count": 15,
   "metadata": {},
   "outputs": [
    {
     "data": {
      "image/png": "[encoded data removed]",
      "text/plain": [
       "<Figure size 432x288 with 1 Axes>"
      ]
     },
     "metadata": {
      "needs_background": "light"
     },
     "output_type": "display_data"
    }
   ],
   "source": [
    "sns.countplot(y=train['source_type'],data=train)\n",
    "plt.ylabel('source type ')\n",
    "plt.xlabel('count of each source type')\n",
    "plt.show()"
   ]
  },
  {
   "cell_type": "code",
   "execution_count": 16,
   "metadata": {},
   "outputs": [],
   "source": [
    "#mising values\n",
    "def miss_val(df):\n",
    "    for col in df.columns:\n",
    "        nan_count=df[col].isnull().sum()\n",
    "        total= df.shape[0]\n",
    "        pp= (nan_count/ total )* 100\n",
    "        #print(type(pp))\n",
    "        print(col,'has' ,pp,'% missing values')"
   ]
  },
  {
   "cell_type": "code",
   "execution_count": 17,
   "metadata": {
    "scrolled": true
   },
   "outputs": [
    {
     "name": "stdout",
     "output_type": "stream",
     "text": [
      "Taning data\n",
      "msno has 0.0 % missing values\n",
      "song_id has 0.0 % missing values\n",
      "source_system_tab has 0.3368251602389888 % missing values\n",
      "source_screen_name has 5.622617560778039 % missing values\n",
      "source_type has 0.2919585144829804 % missing values\n",
      "target has 0.0 % missing values\n"
     ]
    }
   ],
   "source": [
    "print('Taning data')\n",
    "miss_val(train)"
   ]
  },
  {
   "cell_type": "code",
   "execution_count": 18,
   "metadata": {},
   "outputs": [
    {
     "name": "stdout",
     "output_type": "stream",
     "text": [
      "members  data\n",
      "msno has 0.0 % missing values\n",
      "city has 0.0 % missing values\n",
      "bd has 0.0 % missing values\n",
      "gender has 57.84960613899951 % missing values\n",
      "registered_via has 0.0 % missing values\n",
      "registration_init_time has 0.0 % missing values\n",
      "expiration_date has 0.0 % missing values\n"
     ]
    }
   ],
   "source": [
    "print('members  data')\n",
    "miss_val(members)"
   ]
  },
  {
   "cell_type": "code",
   "execution_count": 19,
   "metadata": {
    "scrolled": true
   },
   "outputs": [
    {
     "name": "stdout",
     "output_type": "stream",
     "text": [
      "Song data\n",
      "song_id has 0.0 % missing values\n",
      "song_length has 0.0 % missing values\n",
      "genre_ids has 4.0985576923076925 % missing values\n",
      "artist_name has 0.0 % missing values\n",
      "composer has 46.65525710702341 % missing values\n",
      "lyricist has 84.71240942028986 % missing values\n",
      "language has 4.35479375696767e-05 % missing values\n"
     ]
    }
   ],
   "source": [
    "print('Song data')\n",
    "miss_val(songs)"
   ]
  },
  {
   "cell_type": "code",
   "execution_count": 20,
   "metadata": {
    "scrolled": false
   },
   "outputs": [
    {
     "name": "stdout",
     "output_type": "stream",
     "text": [
      "ext_song.info data\n",
      "song_id has 0.0 % missing values\n",
      "name has 8.710911418306241e-05 % missing values\n",
      "isrc has 5.9472876617344035 % missing values\n"
     ]
    }
   ],
   "source": [
    "print('ext_song.info data')\n",
    "miss_val(ext_song)"
   ]
  },
  {
   "cell_type": "markdown",
   "metadata": {},
   "source": [
    "### Handling missing values"
   ]
  },
  {
   "cell_type": "code",
   "execution_count": 21,
   "metadata": {
    "scrolled": false
   },
   "outputs": [
    {
     "data": {
      "text/plain": [
       "my library      3684730\n",
       "discover        2179252\n",
       "search           623286\n",
       "radio            476701\n",
       "listen with      212266\n",
       "explore          167949\n",
       "notification       6185\n",
       "settings           2200\n",
       "Name: source_system_tab, dtype: int64"
      ]
     },
     "execution_count": 21,
     "metadata": {},
     "output_type": "execute_result"
    }
   ],
   "source": [
    "train['source_system_tab'].value_counts()"
   ]
  },
  {
   "cell_type": "code",
   "execution_count": 22,
   "metadata": {},
   "outputs": [],
   "source": [
    "#replace with my library \n",
    "train['source_system_tab'].fillna('my library',inplace=True)"
   ]
  },
  {
   "cell_type": "code",
   "execution_count": 23,
   "metadata": {
    "scrolled": true
   },
   "outputs": [
    {
     "data": {
      "text/plain": [
       "local-library             2261399\n",
       "online-playlist           1967924\n",
       "local-playlist            1079503\n",
       "radio                      483109\n",
       "album                      477344\n",
       "top-hits-for-artist        423614\n",
       "song                       244722\n",
       "song-based-playlist        210527\n",
       "listen-with                192842\n",
       "topic-article-playlist      11194\n",
       "artist                       3038\n",
       "my-daily-playlist             663\n",
       "Name: source_type, dtype: int64"
      ]
     },
     "execution_count": 23,
     "metadata": {},
     "output_type": "execute_result"
    }
   ],
   "source": [
    "train['source_type'].value_counts()\n"
   ]
  },
  {
   "cell_type": "code",
   "execution_count": 24,
   "metadata": {},
   "outputs": [],
   "source": [
    "#replace with local-library \n",
    "train['source_type'].fillna('local-library',inplace=True)"
   ]
  },
  {
   "cell_type": "code",
   "execution_count": 25,
   "metadata": {},
   "outputs": [
    {
     "data": {
      "text/plain": [
       "Local playlist more     3228202\n",
       "Online playlist more    1294689\n",
       "Radio                    474467\n",
       "Album more               420156\n",
       "Search                   298487\n",
       "Artist more              252429\n",
       "Discover Feature         244246\n",
       "Discover Chart           213658\n",
       "Others profile more      201795\n",
       "Discover Genre            82202\n",
       "My library                75980\n",
       "Explore                   72342\n",
       "Unknown                   54170\n",
       "Discover New              15955\n",
       "Search Trends             13632\n",
       "Search Home               13482\n",
       "My library_Search          6451\n",
       "Self profile more           212\n",
       "Concert                      47\n",
       "Payment                      12\n",
       "Name: source_screen_name, dtype: int64"
      ]
     },
     "execution_count": 25,
     "metadata": {},
     "output_type": "execute_result"
    }
   ],
   "source": [
    "train['source_screen_name'].value_counts()"
   ]
  },
  {
   "cell_type": "code",
   "execution_count": 26,
   "metadata": {
    "scrolled": true
   },
   "outputs": [
    {
     "name": "stdout",
     "output_type": "stream",
     "text": [
      "Taning data\n",
      "msno has 0.0 % missing values\n",
      "song_id has 0.0 % missing values\n",
      "source_system_tab has 0.0 % missing values\n",
      "source_screen_name has 5.622617560778039 % missing values\n",
      "source_type has 0.0 % missing values\n",
      "target has 0.0 % missing values\n"
     ]
    }
   ],
   "source": [
    "print('Taning data')\n",
    "miss_val(train)"
   ]
  },
  {
   "cell_type": "markdown",
   "metadata": {},
   "source": [
    "### Member Data  "
   ]
  },
  {
   "cell_type": "code",
   "execution_count": 27,
   "metadata": {},
   "outputs": [],
   "source": [
    "members.drop(['gender'], axis =1, inplace=True)"
   ]
  },
  {
   "cell_type": "code",
   "execution_count": 28,
   "metadata": {
    "scrolled": false
   },
   "outputs": [
    {
     "name": "stdout",
     "output_type": "stream",
     "text": [
      "members  data\n",
      "msno has 0.0 % missing values\n",
      "city has 0.0 % missing values\n",
      "bd has 0.0 % missing values\n",
      "registered_via has 0.0 % missing values\n",
      "registration_init_time has 0.0 % missing values\n",
      "expiration_date has 0.0 % missing values\n"
     ]
    }
   ],
   "source": [
    "print('members  data')\n",
    "miss_val(members)"
   ]
  },
  {
   "cell_type": "markdown",
   "metadata": {},
   "source": [
    "### Songs Data  "
   ]
  },
  {
   "cell_type": "code",
   "execution_count": 29,
   "metadata": {},
   "outputs": [],
   "source": [
    "songs.drop(['composer'], axis =1, inplace=True)\n",
    "songs.drop(['lyricist'], axis =1, inplace=True)\n"
   ]
  },
  {
   "cell_type": "code",
   "execution_count": 30,
   "metadata": {
    "scrolled": true
   },
   "outputs": [
    {
     "data": {
      "text/plain": [
       "465             567911\n",
       "958             176349\n",
       "2022            168870\n",
       "1609            166457\n",
       "2122            139938\n",
       "                 ...  \n",
       "829|1103             1\n",
       "465|109|958          1\n",
       "465|1011|691         1\n",
       "829|1259             1\n",
       "139|109|94           1\n",
       "Name: genre_ids, Length: 1045, dtype: int64"
      ]
     },
     "execution_count": 30,
     "metadata": {},
     "output_type": "execute_result"
    }
   ],
   "source": [
    "songs['genre_ids'].value_counts()"
   ]
  },
  {
   "cell_type": "code",
   "execution_count": 31,
   "metadata": {},
   "outputs": [],
   "source": [
    "#replace with 465 \n",
    "songs['genre_ids'].fillna('465',inplace=True)"
   ]
  },
  {
   "cell_type": "code",
   "execution_count": 32,
   "metadata": {},
   "outputs": [
    {
     "data": {
      "text/plain": [
       " 52.0    1336694\n",
       "-1.0      639467\n",
       " 3.0      106295\n",
       " 17.0      92518\n",
       " 24.0      41744\n",
       " 31.0      39201\n",
       " 10.0      15482\n",
       " 45.0      14435\n",
       " 59.0       8098\n",
       " 38.0       2385\n",
       "Name: language, dtype: int64"
      ]
     },
     "execution_count": 32,
     "metadata": {},
     "output_type": "execute_result"
    }
   ],
   "source": [
    "songs['language'].value_counts()"
   ]
  },
  {
   "cell_type": "code",
   "execution_count": 33,
   "metadata": {},
   "outputs": [],
   "source": [
    "#replace with 465 \n",
    "songs['language'].fillna(52.0,inplace=True)"
   ]
  },
  {
   "cell_type": "code",
   "execution_count": 34,
   "metadata": {
    "scrolled": false
   },
   "outputs": [
    {
     "name": "stdout",
     "output_type": "stream",
     "text": [
      "songs.info data\n",
      "song_id has 0.0 % missing values\n",
      "song_length has 0.0 % missing values\n",
      "genre_ids has 0.0 % missing values\n",
      "artist_name has 0.0 % missing values\n",
      "language has 0.0 % missing values\n"
     ]
    }
   ],
   "source": [
    "print('songs.info data')\n",
    "miss_val(songs)"
   ]
  },
  {
   "cell_type": "markdown",
   "metadata": {},
   "source": [
    "### Songs exta info data  "
   ]
  },
  {
   "cell_type": "code",
   "execution_count": 35,
   "metadata": {},
   "outputs": [
    {
     "data": {
      "text/plain": [
       "Intro                                          1734\n",
       "Silent Night                                   1088\n",
       "White Christmas                                1018\n",
       "Jingle Bells                                    964\n",
       "Ave Maria                                       792\n",
       "                                               ... \n",
       "Jungle no youna machi de(At city as Jungle)       1\n",
       "Jungle or Forest Scene with Waterfall             1\n",
       "Jungle the Black                                  1\n",
       "Jungle urbaine                                    1\n",
       "￼￼￼ Amigo Passo-Fundense                          1\n",
       "Name: name, Length: 1168979, dtype: int64"
      ]
     },
     "execution_count": 35,
     "metadata": {},
     "output_type": "execute_result"
    }
   ],
   "source": [
    "ext_song['name'].value_counts()"
   ]
  },
  {
   "cell_type": "code",
   "execution_count": 36,
   "metadata": {},
   "outputs": [],
   "source": [
    "#replace with Into \n",
    "ext_song['name'].fillna('Intro',inplace=True)\n"
   ]
  },
  {
   "cell_type": "code",
   "execution_count": 37,
   "metadata": {},
   "outputs": [
    {
     "data": {
      "text/plain": [
       "GBPS81518952    207\n",
       "GBPS81527416    205\n",
       "GBPS81518950    195\n",
       "GBPS81518680    195\n",
       "GBPS81518682    194\n",
       "               ... \n",
       "GBQRF0837747      1\n",
       "GBQRF0837745      1\n",
       "GBQRF0837744      1\n",
       "GBQRF0837743      1\n",
       "ZZA131610001      1\n",
       "Name: isrc, Length: 1806825, dtype: int64"
      ]
     },
     "execution_count": 37,
     "metadata": {},
     "output_type": "execute_result"
    }
   ],
   "source": [
    "ext_song['isrc'].value_counts()"
   ]
  },
  {
   "cell_type": "code",
   "execution_count": 38,
   "metadata": {},
   "outputs": [],
   "source": [
    "#replace with Into \n",
    "ext_song['isrc'].fillna('GBPS81518952',inplace=True)"
   ]
  },
  {
   "cell_type": "code",
   "execution_count": 39,
   "metadata": {
    "scrolled": true
   },
   "outputs": [
    {
     "name": "stdout",
     "output_type": "stream",
     "text": [
      "ext_song.info data\n",
      "song_id has 0.0 % missing values\n",
      "name has 0.0 % missing values\n",
      "isrc has 0.0 % missing values\n"
     ]
    }
   ],
   "source": [
    "print('ext_song.info data')\n",
    "miss_val(ext_song)"
   ]
  },
  {
   "cell_type": "markdown",
   "metadata": {},
   "source": [
    "### Merging Data"
   ]
  },
  {
   "cell_type": "code",
   "execution_count": 40,
   "metadata": {},
   "outputs": [],
   "source": [
    "#meging data\n",
    "songs_all= pd.merge(songs,ext_song,\n",
    "                     on ='song_id' ,how='left')\n",
    "train_memebrs= pd.merge(train,members,\n",
    "                    on ='msno' ,how='left')\n",
    "train_data= pd.merge(train_memebrs,songs_all,\n",
    "                     on ='song_id' ,how='left')\n"
   ]
  },
  {
   "cell_type": "code",
   "execution_count": 41,
   "metadata": {
    "scrolled": false
   },
   "outputs": [
    {
     "name": "stdout",
     "output_type": "stream",
     "text": [
      "<class 'pandas.core.frame.DataFrame'>\n",
      "Int64Index: 7377418 entries, 0 to 7377417\n",
      "Data columns (total 17 columns):\n",
      " #   Column                  Dtype         \n",
      "---  ------                  -----         \n",
      " 0   msno                    object        \n",
      " 1   song_id                 object        \n",
      " 2   source_system_tab       category      \n",
      " 3   source_screen_name      category      \n",
      " 4   source_type             category      \n",
      " 5   target                  int8          \n",
      " 6   city                    int64         \n",
      " 7   bd                      int64         \n",
      " 8   registered_via          int64         \n",
      " 9   registration_init_time  datetime64[ns]\n",
      " 10  expiration_date         datetime64[ns]\n",
      " 11  song_length             float64       \n",
      " 12  genre_ids               category      \n",
      " 13  artist_name             category      \n",
      " 14  language                float16       \n",
      " 15  name                    category      \n",
      " 16  isrc                    category      \n",
      "dtypes: category(7), datetime64[ns](2), float16(1), float64(1), int64(3), int8(1), object(2)\n",
      "memory usage: 776.5+ MB\n"
     ]
    }
   ],
   "source": [
    "train_data.info()"
   ]
  },
  {
   "cell_type": "code",
   "execution_count": 42,
   "metadata": {},
   "outputs": [],
   "source": [
    "train_data.drop(['msno'], axis =1, inplace=True)\n",
    "train_data.drop(['song_id'], axis =1, inplace=True)\n",
    "train_data.drop(['isrc'], axis =1, inplace=True)\n",
    "train_data.drop(['artist_name'], axis =1, inplace=True)\n",
    "train_data.drop(['genre_ids'], axis =1, inplace=True)\n",
    "train_data.drop(['name'], axis =1, inplace=True)\n"
   ]
  },
  {
   "cell_type": "code",
   "execution_count": 43,
   "metadata": {},
   "outputs": [
    {
     "data": {
      "text/html": [
       "<div>\n",
       "<style scoped>\n",
       "    .dataframe tbody tr th:only-of-type {\n",
       "        vertical-align: middle;\n",
       "    }\n",
       "\n",
       "    .dataframe tbody tr th {\n",
       "        vertical-align: top;\n",
       "    }\n",
       "\n",
       "    .dataframe thead th {\n",
       "        text-align: right;\n",
       "    }\n",
       "</style>\n",
       "<table border=\"1\" class=\"dataframe\">\n",
       "  <thead>\n",
       "    <tr style=\"text-align: right;\">\n",
       "      <th></th>\n",
       "      <th>source_system_tab</th>\n",
       "      <th>source_screen_name</th>\n",
       "      <th>source_type</th>\n",
       "      <th>target</th>\n",
       "      <th>city</th>\n",
       "      <th>bd</th>\n",
       "      <th>registered_via</th>\n",
       "      <th>song_length</th>\n",
       "      <th>language</th>\n",
       "      <th>membership_days</th>\n",
       "      <th>registration_year</th>\n",
       "      <th>expiration_year</th>\n",
       "    </tr>\n",
       "  </thead>\n",
       "  <tbody>\n",
       "    <tr>\n",
       "      <th>0</th>\n",
       "      <td>explore</td>\n",
       "      <td>Explore</td>\n",
       "      <td>online-playlist</td>\n",
       "      <td>1</td>\n",
       "      <td>1</td>\n",
       "      <td>0</td>\n",
       "      <td>7</td>\n",
       "      <td>206471.0</td>\n",
       "      <td>52.0</td>\n",
       "      <td>2103</td>\n",
       "      <td>2012</td>\n",
       "      <td>2017</td>\n",
       "    </tr>\n",
       "    <tr>\n",
       "      <th>1</th>\n",
       "      <td>my library</td>\n",
       "      <td>Local playlist more</td>\n",
       "      <td>local-playlist</td>\n",
       "      <td>1</td>\n",
       "      <td>13</td>\n",
       "      <td>24</td>\n",
       "      <td>9</td>\n",
       "      <td>284584.0</td>\n",
       "      <td>52.0</td>\n",
       "      <td>2301</td>\n",
       "      <td>2011</td>\n",
       "      <td>2017</td>\n",
       "    </tr>\n",
       "    <tr>\n",
       "      <th>2</th>\n",
       "      <td>my library</td>\n",
       "      <td>Local playlist more</td>\n",
       "      <td>local-playlist</td>\n",
       "      <td>1</td>\n",
       "      <td>13</td>\n",
       "      <td>24</td>\n",
       "      <td>9</td>\n",
       "      <td>225396.0</td>\n",
       "      <td>52.0</td>\n",
       "      <td>2301</td>\n",
       "      <td>2011</td>\n",
       "      <td>2017</td>\n",
       "    </tr>\n",
       "    <tr>\n",
       "      <th>3</th>\n",
       "      <td>my library</td>\n",
       "      <td>Local playlist more</td>\n",
       "      <td>local-playlist</td>\n",
       "      <td>1</td>\n",
       "      <td>13</td>\n",
       "      <td>24</td>\n",
       "      <td>9</td>\n",
       "      <td>255512.0</td>\n",
       "      <td>-1.0</td>\n",
       "      <td>2301</td>\n",
       "      <td>2011</td>\n",
       "      <td>2017</td>\n",
       "    </tr>\n",
       "    <tr>\n",
       "      <th>4</th>\n",
       "      <td>explore</td>\n",
       "      <td>Explore</td>\n",
       "      <td>online-playlist</td>\n",
       "      <td>1</td>\n",
       "      <td>1</td>\n",
       "      <td>0</td>\n",
       "      <td>7</td>\n",
       "      <td>187802.0</td>\n",
       "      <td>52.0</td>\n",
       "      <td>2103</td>\n",
       "      <td>2012</td>\n",
       "      <td>2017</td>\n",
       "    </tr>\n",
       "  </tbody>\n",
       "</table>\n",
       "</div>"
      ],
      "text/plain": [
       "  source_system_tab   source_screen_name      source_type  target  city  bd  \\\n",
       "0           explore              Explore  online-playlist       1     1   0   \n",
       "1        my library  Local playlist more   local-playlist       1    13  24   \n",
       "2        my library  Local playlist more   local-playlist       1    13  24   \n",
       "3        my library  Local playlist more   local-playlist       1    13  24   \n",
       "4           explore              Explore  online-playlist       1     1   0   \n",
       "\n",
       "   registered_via  song_length  language  membership_days  registration_year  \\\n",
       "0               7     206471.0      52.0             2103               2012   \n",
       "1               9     284584.0      52.0             2301               2011   \n",
       "2               9     225396.0      52.0             2301               2011   \n",
       "3               9     255512.0      -1.0             2301               2011   \n",
       "4               7     187802.0      52.0             2103               2012   \n",
       "\n",
       "   expiration_year  \n",
       "0             2017  \n",
       "1             2017  \n",
       "2             2017  \n",
       "3             2017  \n",
       "4             2017  "
      ]
     },
     "execution_count": 43,
     "metadata": {},
     "output_type": "execute_result"
    }
   ],
   "source": [
    "train_data['membership_days'] = train_data['expiration_date'].subtract(train_data['registration_init_time']).dt.days.astype(int)\n",
    "train_data['registration_year'] = train_data['registration_init_time'].dt.year\n",
    "train_data['expiration_year'] = train_data['expiration_date'].dt.year\n",
    "train_data.drop(columns = ['registration_init_time' , 'expiration_date'] , inplace = True)\n",
    "train_data.head()"
   ]
  },
  {
   "cell_type": "code",
   "execution_count": 44,
   "metadata": {},
   "outputs": [],
   "source": [
    "label_encoding = ['source_system_tab', 'source_screen_name',\n",
    "       'source_type']"
   ]
  },
  {
   "cell_type": "code",
   "execution_count": 45,
   "metadata": {},
   "outputs": [],
   "source": [
    "from sklearn.preprocessing import LabelEncoder"
   ]
  },
  {
   "cell_type": "code",
   "execution_count": 46,
   "metadata": {},
   "outputs": [],
   "source": [
    "for f in label_encoding:\n",
    "    lb = LabelEncoder()\n",
    "    lb.fit(list(train_data[f].values) )\n",
    "    train_data[f] = lb.transform(list(train_data[f].values))\n",
    "   "
   ]
  },
  {
   "cell_type": "code",
   "execution_count": 47,
   "metadata": {},
   "outputs": [],
   "source": [
    "for col in train_data.columns:\n",
    "    if train_data[col].dtype == object:\n",
    "        train_data[col] = train_data[col].astype('category')\n",
    "        "
   ]
  },
  {
   "cell_type": "code",
   "execution_count": 48,
   "metadata": {
    "scrolled": true
   },
   "outputs": [
    {
     "name": "stdout",
     "output_type": "stream",
     "text": [
      "train data\n",
      "source_system_tab has 0.0 % missing values\n",
      "source_screen_name has 0.0 % missing values\n",
      "source_type has 0.0 % missing values\n",
      "target has 0.0 % missing values\n",
      "city has 0.0 % missing values\n",
      "bd has 0.0 % missing values\n",
      "registered_via has 0.0 % missing values\n",
      "song_length has 0.0015452560773972681 % missing values\n",
      "language has 0.0015452560773972681 % missing values\n",
      "membership_days has 0.0 % missing values\n",
      "registration_year has 0.0 % missing values\n",
      "expiration_year has 0.0 % missing values\n"
     ]
    }
   ],
   "source": [
    "print('train data')\n",
    "miss_val(train_data)"
   ]
  },
  {
   "cell_type": "code",
   "execution_count": 49,
   "metadata": {},
   "outputs": [
    {
     "data": {
      "text/plain": [
       "235415.0     18749\n",
       "258298.0     18440\n",
       "219324.0     17756\n",
       "250357.0     17740\n",
       "265508.0     16452\n",
       "             ...  \n",
       "1410089.0        1\n",
       "182813.0         1\n",
       "550312.0         1\n",
       "837961.0         1\n",
       "206192.0         1\n",
       "Name: song_length, Length: 60266, dtype: int64"
      ]
     },
     "execution_count": 49,
     "metadata": {},
     "output_type": "execute_result"
    }
   ],
   "source": [
    "train_data['song_length'].value_counts()"
   ]
  },
  {
   "cell_type": "code",
   "execution_count": 50,
   "metadata": {},
   "outputs": [],
   "source": [
    "#replace with Into \n",
    "train_data['song_length'].fillna(235415.0 ,inplace=True)"
   ]
  },
  {
   "cell_type": "code",
   "execution_count": 51,
   "metadata": {
    "scrolled": true
   },
   "outputs": [
    {
     "data": {
      "text/plain": [
       " 3.0     4044643\n",
       " 52.0    1864825\n",
       " 31.0     656623\n",
       "-1.0      308752\n",
       " 17.0     245136\n",
       " 10.0     171904\n",
       " 24.0      78621\n",
       " 59.0       4193\n",
       " 45.0       2397\n",
       " 38.0        210\n",
       "Name: language, dtype: int64"
      ]
     },
     "execution_count": 51,
     "metadata": {},
     "output_type": "execute_result"
    }
   ],
   "source": [
    "train_data['language'].value_counts()"
   ]
  },
  {
   "cell_type": "code",
   "execution_count": 52,
   "metadata": {},
   "outputs": [],
   "source": [
    "train_data['language'].fillna(3.0 ,inplace=True)"
   ]
  },
  {
   "cell_type": "code",
   "execution_count": 53,
   "metadata": {},
   "outputs": [
    {
     "name": "stdout",
     "output_type": "stream",
     "text": [
      "train data\n",
      "source_system_tab has 0.0 % missing values\n",
      "source_screen_name has 0.0 % missing values\n",
      "source_type has 0.0 % missing values\n",
      "target has 0.0 % missing values\n",
      "city has 0.0 % missing values\n",
      "bd has 0.0 % missing values\n",
      "registered_via has 0.0 % missing values\n",
      "song_length has 0.0 % missing values\n",
      "language has 0.0 % missing values\n",
      "membership_days has 0.0 % missing values\n",
      "registration_year has 0.0 % missing values\n",
      "expiration_year has 0.0 % missing values\n"
     ]
    }
   ],
   "source": [
    "print('train data')\n",
    "miss_val(train_data)"
   ]
  },
  {
   "cell_type": "code",
   "execution_count": 54,
   "metadata": {},
   "outputs": [],
   "source": [
    "train_data.replace([np.inf,-np.inf],np.nan, inplace =True)"
   ]
  },
  {
   "cell_type": "code",
   "execution_count": 55,
   "metadata": {},
   "outputs": [
    {
     "name": "stdout",
     "output_type": "stream",
     "text": [
      "train data\n",
      "source_system_tab has 0.0 % missing values\n",
      "source_screen_name has 0.0 % missing values\n",
      "source_type has 0.0 % missing values\n",
      "target has 0.0 % missing values\n",
      "city has 0.0 % missing values\n",
      "bd has 0.0 % missing values\n",
      "registered_via has 0.0 % missing values\n",
      "song_length has 0.0 % missing values\n",
      "language has 0.0 % missing values\n",
      "membership_days has 0.0 % missing values\n",
      "registration_year has 0.0 % missing values\n",
      "expiration_year has 0.0 % missing values\n"
     ]
    }
   ],
   "source": [
    "print('train data')\n",
    "miss_val(train_data)"
   ]
  },
  {
   "cell_type": "markdown",
   "metadata": {},
   "source": [
    "### Model Building"
   ]
  },
  {
   "cell_type": "code",
   "execution_count": 56,
   "metadata": {},
   "outputs": [],
   "source": [
    "from sklearn.preprocessing import StandardScaler\n",
    "from sklearn.svm import SVC\n",
    "from sklearn.model_selection import train_test_split\n",
    "from sklearn.metrics import accuracy_score\n",
    "from sklearn.metrics import confusion_matrix\n",
    "from sklearn.metrics import accuracy_score"
   ]
  },
  {
   "cell_type": "code",
   "execution_count": 57,
   "metadata": {},
   "outputs": [
    {
     "data": {
      "text/plain": [
       "(7377418, 12)"
      ]
     },
     "execution_count": 57,
     "metadata": {},
     "output_type": "execute_result"
    }
   ],
   "source": [
    "train_data.shape"
   ]
  },
  {
   "cell_type": "code",
   "execution_count": 58,
   "metadata": {},
   "outputs": [],
   "source": [
    "train_data = train_data.sample(frac = 1)"
   ]
  },
  {
   "cell_type": "code",
   "execution_count": 59,
   "metadata": {},
   "outputs": [],
   "source": [
    "train_data1=train_data[0:30000]"
   ]
  },
  {
   "cell_type": "code",
   "execution_count": 60,
   "metadata": {},
   "outputs": [
    {
     "data": {
      "text/plain": [
       "(30000, 12)"
      ]
     },
     "execution_count": 60,
     "metadata": {},
     "output_type": "execute_result"
    }
   ],
   "source": [
    "train_data1.shape"
   ]
  },
  {
   "cell_type": "code",
   "execution_count": 61,
   "metadata": {},
   "outputs": [
    {
     "data": {
      "text/html": [
       "<div>\n",
       "<style scoped>\n",
       "    .dataframe tbody tr th:only-of-type {\n",
       "        vertical-align: middle;\n",
       "    }\n",
       "\n",
       "    .dataframe tbody tr th {\n",
       "        vertical-align: top;\n",
       "    }\n",
       "\n",
       "    .dataframe thead th {\n",
       "        text-align: right;\n",
       "    }\n",
       "</style>\n",
       "<table border=\"1\" class=\"dataframe\">\n",
       "  <thead>\n",
       "    <tr style=\"text-align: right;\">\n",
       "      <th></th>\n",
       "      <th>source_system_tab</th>\n",
       "      <th>source_screen_name</th>\n",
       "      <th>source_type</th>\n",
       "      <th>target</th>\n",
       "      <th>city</th>\n",
       "      <th>bd</th>\n",
       "      <th>registered_via</th>\n",
       "      <th>song_length</th>\n",
       "      <th>language</th>\n",
       "      <th>membership_days</th>\n",
       "      <th>registration_year</th>\n",
       "      <th>expiration_year</th>\n",
       "    </tr>\n",
       "  </thead>\n",
       "  <tbody>\n",
       "    <tr>\n",
       "      <th>2179284</th>\n",
       "      <td>3</td>\n",
       "      <td>8</td>\n",
       "      <td>3</td>\n",
       "      <td>0</td>\n",
       "      <td>4</td>\n",
       "      <td>48</td>\n",
       "      <td>7</td>\n",
       "      <td>250944.0</td>\n",
       "      <td>10.0</td>\n",
       "      <td>1572</td>\n",
       "      <td>2013</td>\n",
       "      <td>2017</td>\n",
       "    </tr>\n",
       "    <tr>\n",
       "      <th>5388873</th>\n",
       "      <td>2</td>\n",
       "      <td>12</td>\n",
       "      <td>2</td>\n",
       "      <td>1</td>\n",
       "      <td>5</td>\n",
       "      <td>34</td>\n",
       "      <td>3</td>\n",
       "      <td>222075.0</td>\n",
       "      <td>3.0</td>\n",
       "      <td>1209</td>\n",
       "      <td>2014</td>\n",
       "      <td>2017</td>\n",
       "    </tr>\n",
       "    <tr>\n",
       "      <th>6394319</th>\n",
       "      <td>3</td>\n",
       "      <td>8</td>\n",
       "      <td>3</td>\n",
       "      <td>1</td>\n",
       "      <td>11</td>\n",
       "      <td>30</td>\n",
       "      <td>9</td>\n",
       "      <td>283846.0</td>\n",
       "      <td>3.0</td>\n",
       "      <td>3464</td>\n",
       "      <td>2008</td>\n",
       "      <td>2017</td>\n",
       "    </tr>\n",
       "    <tr>\n",
       "      <th>7031251</th>\n",
       "      <td>0</td>\n",
       "      <td>15</td>\n",
       "      <td>8</td>\n",
       "      <td>0</td>\n",
       "      <td>10</td>\n",
       "      <td>0</td>\n",
       "      <td>7</td>\n",
       "      <td>193306.0</td>\n",
       "      <td>52.0</td>\n",
       "      <td>875</td>\n",
       "      <td>2015</td>\n",
       "      <td>2017</td>\n",
       "    </tr>\n",
       "    <tr>\n",
       "      <th>972470</th>\n",
       "      <td>3</td>\n",
       "      <td>8</td>\n",
       "      <td>3</td>\n",
       "      <td>1</td>\n",
       "      <td>11</td>\n",
       "      <td>0</td>\n",
       "      <td>7</td>\n",
       "      <td>203790.0</td>\n",
       "      <td>52.0</td>\n",
       "      <td>1301</td>\n",
       "      <td>2014</td>\n",
       "      <td>2017</td>\n",
       "    </tr>\n",
       "  </tbody>\n",
       "</table>\n",
       "</div>"
      ],
      "text/plain": [
       "         source_system_tab  source_screen_name  source_type  target  city  bd  \\\n",
       "2179284                  3                   8            3       0     4  48   \n",
       "5388873                  2                  12            2       1     5  34   \n",
       "6394319                  3                   8            3       1    11  30   \n",
       "7031251                  0                  15            8       0    10   0   \n",
       "972470                   3                   8            3       1    11   0   \n",
       "\n",
       "         registered_via  song_length  language  membership_days  \\\n",
       "2179284               7     250944.0      10.0             1572   \n",
       "5388873               3     222075.0       3.0             1209   \n",
       "6394319               9     283846.0       3.0             3464   \n",
       "7031251               7     193306.0      52.0              875   \n",
       "972470                7     203790.0      52.0             1301   \n",
       "\n",
       "         registration_year  expiration_year  \n",
       "2179284               2013             2017  \n",
       "5388873               2014             2017  \n",
       "6394319               2008             2017  \n",
       "7031251               2015             2017  \n",
       "972470                2014             2017  "
      ]
     },
     "execution_count": 61,
     "metadata": {},
     "output_type": "execute_result"
    }
   ],
   "source": [
    "train_data1.head()"
   ]
  },
  {
   "cell_type": "code",
   "execution_count": 62,
   "metadata": {},
   "outputs": [],
   "source": [
    "x = train_data1.drop(['target'], axis =1)\n",
    "y = train_data1['target']"
   ]
  },
  {
   "cell_type": "code",
   "execution_count": 63,
   "metadata": {},
   "outputs": [],
   "source": [
    "x_train, x_test, y_train, y_test = train_test_split(x, y, test_size = 0.3, random_state = 0)"
   ]
  },
  {
   "cell_type": "code",
   "execution_count": 64,
   "metadata": {
    "scrolled": true
   },
   "outputs": [
    {
     "name": "stdout",
     "output_type": "stream",
     "text": [
      "<class 'pandas.core.frame.DataFrame'>\n",
      "Int64Index: 21000 entries, 246449 to 6452503\n",
      "Data columns (total 11 columns):\n",
      " #   Column              Non-Null Count  Dtype  \n",
      "---  ------              --------------  -----  \n",
      " 0   source_system_tab   21000 non-null  int32  \n",
      " 1   source_screen_name  21000 non-null  int32  \n",
      " 2   source_type         21000 non-null  int32  \n",
      " 3   city                21000 non-null  int64  \n",
      " 4   bd                  21000 non-null  int64  \n",
      " 5   registered_via      21000 non-null  int64  \n",
      " 6   song_length         21000 non-null  float64\n",
      " 7   language            21000 non-null  float16\n",
      " 8   membership_days     21000 non-null  int32  \n",
      " 9   registration_year   21000 non-null  int64  \n",
      " 10  expiration_year     21000 non-null  int64  \n",
      "dtypes: float16(1), float64(1), int32(4), int64(5)\n",
      "memory usage: 1.5 MB\n"
     ]
    }
   ],
   "source": [
    "x_train.info()"
   ]
  },
  {
   "cell_type": "code",
   "execution_count": 65,
   "metadata": {
    "scrolled": true
   },
   "outputs": [
    {
     "data": {
      "text/html": [
       "<div>\n",
       "<style scoped>\n",
       "    .dataframe tbody tr th:only-of-type {\n",
       "        vertical-align: middle;\n",
       "    }\n",
       "\n",
       "    .dataframe tbody tr th {\n",
       "        vertical-align: top;\n",
       "    }\n",
       "\n",
       "    .dataframe thead th {\n",
       "        text-align: right;\n",
       "    }\n",
       "</style>\n",
       "<table border=\"1\" class=\"dataframe\">\n",
       "  <thead>\n",
       "    <tr style=\"text-align: right;\">\n",
       "      <th></th>\n",
       "      <th>source_system_tab</th>\n",
       "      <th>source_screen_name</th>\n",
       "      <th>source_type</th>\n",
       "      <th>city</th>\n",
       "      <th>bd</th>\n",
       "      <th>registered_via</th>\n",
       "      <th>song_length</th>\n",
       "      <th>language</th>\n",
       "      <th>membership_days</th>\n",
       "      <th>registration_year</th>\n",
       "      <th>expiration_year</th>\n",
       "    </tr>\n",
       "  </thead>\n",
       "  <tbody>\n",
       "    <tr>\n",
       "      <th>count</th>\n",
       "      <td>21000.000000</td>\n",
       "      <td>21000.000000</td>\n",
       "      <td>21000.000000</td>\n",
       "      <td>21000.000000</td>\n",
       "      <td>21000.000000</td>\n",
       "      <td>21000.000000</td>\n",
       "      <td>2.100000e+04</td>\n",
       "      <td>21000.00000</td>\n",
       "      <td>21000.000000</td>\n",
       "      <td>21000.000000</td>\n",
       "      <td>21000.000000</td>\n",
       "    </tr>\n",
       "    <tr>\n",
       "      <th>mean</th>\n",
       "      <td>2.448714</td>\n",
       "      <td>9.074762</td>\n",
       "      <td>4.738476</td>\n",
       "      <td>7.521143</td>\n",
       "      <td>17.805238</td>\n",
       "      <td>6.810714</td>\n",
       "      <td>2.451836e+05</td>\n",
       "      <td>inf</td>\n",
       "      <td>1635.056190</td>\n",
       "      <td>2012.719143</td>\n",
       "      <td>2017.068762</td>\n",
       "    </tr>\n",
       "    <tr>\n",
       "      <th>std</th>\n",
       "      <td>1.867265</td>\n",
       "      <td>4.578384</td>\n",
       "      <td>2.438868</td>\n",
       "      <td>6.648289</td>\n",
       "      <td>26.050232</td>\n",
       "      <td>2.274452</td>\n",
       "      <td>7.890856e+04</td>\n",
       "      <td>21.15625</td>\n",
       "      <td>1128.130901</td>\n",
       "      <td>3.019024</td>\n",
       "      <td>0.390534</td>\n",
       "    </tr>\n",
       "    <tr>\n",
       "      <th>min</th>\n",
       "      <td>0.000000</td>\n",
       "      <td>0.000000</td>\n",
       "      <td>0.000000</td>\n",
       "      <td>1.000000</td>\n",
       "      <td>0.000000</td>\n",
       "      <td>3.000000</td>\n",
       "      <td>1.086600e+04</td>\n",
       "      <td>-1.00000</td>\n",
       "      <td>0.000000</td>\n",
       "      <td>2004.000000</td>\n",
       "      <td>2007.000000</td>\n",
       "    </tr>\n",
       "    <tr>\n",
       "      <th>25%</th>\n",
       "      <td>0.000000</td>\n",
       "      <td>8.000000</td>\n",
       "      <td>3.000000</td>\n",
       "      <td>1.000000</td>\n",
       "      <td>0.000000</td>\n",
       "      <td>4.000000</td>\n",
       "      <td>2.147260e+05</td>\n",
       "      <td>3.00000</td>\n",
       "      <td>701.000000</td>\n",
       "      <td>2011.000000</td>\n",
       "      <td>2017.000000</td>\n",
       "    </tr>\n",
       "    <tr>\n",
       "      <th>50%</th>\n",
       "      <td>3.000000</td>\n",
       "      <td>8.000000</td>\n",
       "      <td>4.000000</td>\n",
       "      <td>5.000000</td>\n",
       "      <td>21.000000</td>\n",
       "      <td>7.000000</td>\n",
       "      <td>2.413710e+05</td>\n",
       "      <td>3.00000</td>\n",
       "      <td>1445.000000</td>\n",
       "      <td>2013.000000</td>\n",
       "      <td>2017.000000</td>\n",
       "    </tr>\n",
       "    <tr>\n",
       "      <th>75%</th>\n",
       "      <td>3.000000</td>\n",
       "      <td>11.000000</td>\n",
       "      <td>6.000000</td>\n",
       "      <td>13.000000</td>\n",
       "      <td>29.000000</td>\n",
       "      <td>9.000000</td>\n",
       "      <td>2.715950e+05</td>\n",
       "      <td>52.00000</td>\n",
       "      <td>2299.000000</td>\n",
       "      <td>2015.000000</td>\n",
       "      <td>2017.000000</td>\n",
       "    </tr>\n",
       "    <tr>\n",
       "      <th>max</th>\n",
       "      <td>7.000000</td>\n",
       "      <td>20.000000</td>\n",
       "      <td>11.000000</td>\n",
       "      <td>22.000000</td>\n",
       "      <td>1030.000000</td>\n",
       "      <td>13.000000</td>\n",
       "      <td>3.861839e+06</td>\n",
       "      <td>59.00000</td>\n",
       "      <td>5149.000000</td>\n",
       "      <td>2017.000000</td>\n",
       "      <td>2020.000000</td>\n",
       "    </tr>\n",
       "  </tbody>\n",
       "</table>\n",
       "</div>"
      ],
      "text/plain": [
       "       source_system_tab  source_screen_name   source_type          city  \\\n",
       "count       21000.000000        21000.000000  21000.000000  21000.000000   \n",
       "mean            2.448714            9.074762      4.738476      7.521143   \n",
       "std             1.867265            4.578384      2.438868      6.648289   \n",
       "min             0.000000            0.000000      0.000000      1.000000   \n",
       "25%             0.000000            8.000000      3.000000      1.000000   \n",
       "50%             3.000000            8.000000      4.000000      5.000000   \n",
       "75%             3.000000           11.000000      6.000000     13.000000   \n",
       "max             7.000000           20.000000     11.000000     22.000000   \n",
       "\n",
       "                 bd  registered_via   song_length     language  \\\n",
       "count  21000.000000    21000.000000  2.100000e+04  21000.00000   \n",
       "mean      17.805238        6.810714  2.451836e+05          inf   \n",
       "std       26.050232        2.274452  7.890856e+04     21.15625   \n",
       "min        0.000000        3.000000  1.086600e+04     -1.00000   \n",
       "25%        0.000000        4.000000  2.147260e+05      3.00000   \n",
       "50%       21.000000        7.000000  2.413710e+05      3.00000   \n",
       "75%       29.000000        9.000000  2.715950e+05     52.00000   \n",
       "max     1030.000000       13.000000  3.861839e+06     59.00000   \n",
       "\n",
       "       membership_days  registration_year  expiration_year  \n",
       "count     21000.000000       21000.000000     21000.000000  \n",
       "mean       1635.056190        2012.719143      2017.068762  \n",
       "std        1128.130901           3.019024         0.390534  \n",
       "min           0.000000        2004.000000      2007.000000  \n",
       "25%         701.000000        2011.000000      2017.000000  \n",
       "50%        1445.000000        2013.000000      2017.000000  \n",
       "75%        2299.000000        2015.000000      2017.000000  \n",
       "max        5149.000000        2017.000000      2020.000000  "
      ]
     },
     "execution_count": 65,
     "metadata": {},
     "output_type": "execute_result"
    }
   ],
   "source": [
    "x_train.describe()"
   ]
  },
  {
   "cell_type": "code",
   "execution_count": 66,
   "metadata": {},
   "outputs": [],
   "source": [
    "sc=StandardScaler()\n",
    "x_train=sc.fit_transform(x_train)\n",
    "x_test=sc.fit_transform(x_test)"
   ]
  },
  {
   "cell_type": "code",
   "execution_count": 67,
   "metadata": {},
   "outputs": [
    {
     "data": {
      "text/plain": [
       "False"
      ]
     },
     "execution_count": 67,
     "metadata": {},
     "output_type": "execute_result"
    }
   ],
   "source": [
    "np.isnan(x_test.any())"
   ]
  },
  {
   "cell_type": "code",
   "execution_count": 68,
   "metadata": {
    "scrolled": true
   },
   "outputs": [
    {
     "data": {
      "text/plain": [
       "SVC(kernel='linear', random_state=0)"
      ]
     },
     "execution_count": 68,
     "metadata": {},
     "output_type": "execute_result"
    }
   ],
   "source": [
    "clf = SVC(kernel='linear', C=1.0, random_state=0)\n",
    "clf.fit(x_train, y_train)"
   ]
  },
  {
   "cell_type": "markdown",
   "metadata": {},
   "source": [
    "### Accuracy"
   ]
  },
  {
   "cell_type": "code",
   "execution_count": 69,
   "metadata": {},
   "outputs": [
    {
     "name": "stdout",
     "output_type": "stream",
     "text": [
      "Test - Accuracy : 0.5921111111111111\n",
      "Test -  Confusion matrix :\n",
      " [[2211 2253]\n",
      " [1418 3118]]\n"
     ]
    }
   ],
   "source": [
    "y_pp=clf.predict(x_test)\n",
    "print (\"Test - Accuracy :\", accuracy_score(y_test, y_pp))\n",
    "print (\"Test -  Confusion matrix :\\n\",confusion_matrix(y_test, y_pp))"
   ]
  },
  {
   "cell_type": "code",
   "execution_count": null,
   "metadata": {},
   "outputs": [],
   "source": []
  }
 ],
 "metadata": {
  "kernelspec": {
   "display_name": "Python 3",
   "language": "python",
   "name": "python3"
  },
  "language_info": {
   "codemirror_mode": {
    "name": "ipython",
    "version": 3
   },
   "file_extension": ".py",
   "mimetype": "text/x-python",
   "name": "python",
   "nbconvert_exporter": "python",
   "pygments_lexer": "ipython3",
   "version": "3.8.8"
  }
 },
 "nbformat": 4,
 "nbformat_minor": 2
}
